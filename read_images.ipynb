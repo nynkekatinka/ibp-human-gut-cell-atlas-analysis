{
 "cells": [
  {
   "cell_type": "code",
   "execution_count": null,
   "metadata": {},
   "outputs": [],
   "source": [
    "#pip install scikit-image matplotlib\n",
    "import skimage.io as io\n",
    "import matplotlib.pyplot as plt\n",
    "import os"
   ]
  },
  {
   "cell_type": "code",
   "execution_count": null,
   "metadata": {},
   "outputs": [],
   "source": [
    "path='/media/gambino/students_workdir/ibp/visium_data/Images/'\n",
    "slide1section1 = io.imread(path+'Slide1/Section1.tif')\n",
    "slide1section2 = io.imread(path+'Slide1/Section2.tif')\n",
    "slide1section3 = io.imread(path+'Slide1/Section3.tif')\n",
    "slide1section4 = io.imread(path+'Slide1/Section4.tif')"
   ]
  },
  {
   "cell_type": "markdown",
   "metadata": {},
   "source": [
    "section 5 doesn't work, probably because the section got too damaged (in the words of Natalie)"
   ]
  },
  {
   "cell_type": "code",
   "execution_count": null,
   "metadata": {},
   "outputs": [],
   "source": [
    "#slide2section5 = io.imread(path+'Slide2/Section5.tif')\n",
    "slide2section6 = io.imread(path+'Slide2/Section6.tif')\n",
    "slide2section7 = io.imread(path+'Slide2/Section7.tif')\n",
    "slide2section8 = io.imread(path+'Slide2/Section8.tif')"
   ]
  },
  {
   "cell_type": "code",
   "execution_count": null,
   "metadata": {},
   "outputs": [],
   "source": [
    "slide3section9 = io.imread(path+'Slide3/Section9.tif')\n",
    "slide3section10 = io.imread(path+'Slide3/Section10.tif')\n",
    "slide3section11 = io.imread(path+'Slide3/Section11.tif')\n",
    "slide3section12 = io.imread(path+'Slide3/Section12.tif')"
   ]
  },
  {
   "cell_type": "markdown",
   "metadata": {},
   "source": [
    "### Make the Images\n",
    "\n",
    "The images are too big to put all of them in a single grid, so therefore we make three individual ones"
   ]
  },
  {
   "cell_type": "code",
   "execution_count": null,
   "metadata": {},
   "outputs": [],
   "source": [
    "# Create a 2x2 grid of subplots\n",
    "fig, axes = plt.subplots(2, 2, figsize=(10, 10))  # Adjust figsize as needed\n",
    "\n",
    "# Display each image in a separate subplot\n",
    "axes[0, 0].imshow(slide1section1, cmap='gray')  # Image 1\n",
    "axes[0,0].set_title('Section 1')\n",
    "axes[0, 0].axis('off')  # Turn off axis labels and ticks for Image 1\n",
    "\n",
    "axes[0, 1].imshow(slide1section2, cmap='gray')  # Image 2\n",
    "axes[0, 1].set_title('Section 2')\n",
    "axes[0, 1].axis('off')  # Turn off axis labels and ticks for Image 2\n",
    "\n",
    "axes[1, 0].imshow(slide1section3, cmap='gray')  # Image 3\n",
    "axes[1, 0].set_title('Section 3')\n",
    "axes[1, 0].axis('off')  # Turn off axis labels and ticks for Image 3\n",
    "\n",
    "axes[1, 1].imshow(slide1section4, cmap='gray')  # Image 4\n",
    "axes[1, 1].set_title('Section 4')\n",
    "axes[1, 1].axis('off')  # Turn off axis labels and ticks for Image 4\n",
    "\n",
    "\n",
    "# Adjust spacing between subplots\n",
    "plt.subplots_adjust(wspace=0.1, hspace=0.1)\n",
    "\n",
    "# Show the combined image\n",
    "plt.show()"
   ]
  },
  {
   "cell_type": "code",
   "execution_count": null,
   "metadata": {},
   "outputs": [],
   "source": [
    "# Create a 1x4 grid of subplots\n",
    "fig, axes = plt.subplots(2, 2, figsize=(10, 10))  # Adjust figsize as needed\n",
    "#axes[1, 0].imshow(slide2section5, cmap='gray')  # Image 1\n",
    "#axes[1,0].set_title('Section 5')\n",
    "#axes[1, 0].axis('off')  # Turn off axis labels and ticks for Image 1\n",
    "\n",
    "axes[0, 1].imshow(slide2section6, cmap='gray')  # Image 2\n",
    "axes[0, 1].set_title('Section 6')\n",
    "axes[0, 1].axis('off')  # Turn off axis labels and ticks for Image 2\n",
    "\n",
    "axes[1, 0].imshow(slide2section7, cmap='gray')  # Image 3\n",
    "axes[1, 0].set_title('Section 7')\n",
    "axes[1, 0].axis('off')  # Turn off axis labels and ticks for Image 3\n",
    "\n",
    "axes[1, 1].imshow(slide2section8, cmap='gray')  # Image 4\n",
    "axes[1, 1].set_title('Section 8')\n",
    "axes[1, 1].axis('off')  # Turn off axis labels and ticks for Image 4\n",
    "\n",
    "# Adjust spacing between subplots\n",
    "plt.subplots_adjust(wspace=0.1, hspace=0.1)\n",
    "\n",
    "# Show the combined image\n",
    "plt.show()\n"
   ]
  },
  {
   "cell_type": "code",
   "execution_count": null,
   "metadata": {},
   "outputs": [],
   "source": [
    "# Create a 1x4 grid of subplots\n",
    "fig, axes = plt.subplots(2, 2, figsize=(10, 10))  # Adjust figsize as needed\n",
    "axes[0, 0].imshow(slide3section9, cmap='gray')  # Image 1\n",
    "axes[0,0].set_title('Section 9')\n",
    "axes[0, 0].axis('off')  # Turn off axis labels and ticks for Image 1\n",
    "\n",
    "axes[0, 1].imshow(slide3section10, cmap='gray')  # Image 2\n",
    "axes[0, 1].set_title('Section 10')\n",
    "axes[0, 1].axis('off')  # Turn off axis labels and ticks for Image 2\n",
    "\n",
    "axes[1, 0].imshow(slide3section11, cmap='gray')  # Image 3\n",
    "axes[1, 0].set_title('Section 11')\n",
    "axes[1, 0].axis('off')  # Turn off axis labels and ticks for Image 3\n",
    "\n",
    "axes[1, 1].imshow(slide3section12, cmap='gray')  # Image 4\n",
    "axes[1, 1].set_title('Section 12')\n",
    "axes[1, 1].axis('off')  # Turn off axis labels and ticks for Image 4\n",
    "\n",
    "# Adjust spacing between subplots\n",
    "plt.subplots_adjust(wspace=0.1, hspace=0.1)\n",
    "\n",
    "# Show the combined image\n",
    "plt.show()"
   ]
  }
 ],
 "metadata": {
  "kernelspec": {
   "display_name": "ibp",
   "language": "python",
   "name": "python3"
  },
  "language_info": {
   "name": "python",
   "version": "3.12.0"
  }
 },
 "nbformat": 4,
 "nbformat_minor": 2
}
