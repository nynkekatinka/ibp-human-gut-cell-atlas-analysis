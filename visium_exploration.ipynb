{
 "cells": [
  {
   "cell_type": "markdown",
   "metadata": {},
   "source": [
    "## Reference-free spot cell-type deconvolution with STdeconvolve from 10X visium"
   ]
  },
  {
   "cell_type": "markdown",
   "metadata": {},
   "source": [
    "### Install and load packages"
   ]
  },
  {
   "cell_type": "code",
   "execution_count": 2,
   "metadata": {
    "vscode": {
     "languageId": "r"
    }
   },
   "outputs": [
    {
     "name": "stderr",
     "output_type": "stream",
     "text": [
      "Updating HTML index of packages in '.Library'\n",
      "\n",
      "Making 'packages.html' ...\n",
      " done\n",
      "\n",
      "Warning message in system(\"apt install libgsl-dev\", intern = TRUE):\n",
      "“running command 'apt install libgsl-dev' had status 100”\n"
     ]
    },
    {
     "data": {
      "text/html": [],
      "text/latex": [],
      "text/markdown": [],
      "text/plain": [
       "character(0)\n",
       "attr(,\"status\")\n",
       "[1] 100\n",
       "attr(,\"errmsg\")\n",
       "[1] \"Resource temporarily unavailable\""
      ]
     },
     "metadata": {},
     "output_type": "display_data"
    }
   ],
   "source": [
    "install.packages(\"remotes\")\n",
    "system(\"apt install libgsl-dev\", intern=TRUE)"
   ]
  },
  {
   "cell_type": "code",
   "execution_count": 3,
   "metadata": {
    "vscode": {
     "languageId": "r"
    }
   },
   "outputs": [
    {
     "name": "stderr",
     "output_type": "stream",
     "text": [
      "Updating HTML index of packages in '.Library'\n",
      "\n",
      "Making 'packages.html' ...\n",
      " done\n",
      "\n"
     ]
    }
   ],
   "source": [
    "install.packages('jsonlite')"
   ]
  },
  {
   "cell_type": "markdown",
   "metadata": {},
   "source": [
    "Run BiocManager to install STdeconvolve. \n",
    "If the installment is unsuccesfull due to e.g. the package topicmodels, run the following command in a bash terminal:\n",
    "`conda install -c conda-forge r-gsl`"
   ]
  },
  {
   "cell_type": "code",
   "execution_count": 17,
   "metadata": {
    "vscode": {
     "languageId": "r"
    }
   },
   "outputs": [
    {
     "name": "stderr",
     "output_type": "stream",
     "text": [
      "'getOption(\"repos\")' replaces Bioconductor standard repositories, see\n",
      "'help(\"repositories\", package = \"BiocManager\")' for details.\n",
      "Replacement repositories:\n",
      "    CRAN: https://cran.r-project.org\n",
      "\n"
     ]
    },
    {
     "name": "stderr",
     "output_type": "stream",
     "text": [
      "Bioconductor version 3.18 (BiocManager 1.30.22), R 4.3.1 (2023-06-16)\n",
      "\n",
      "Old packages: 'dbplyr', 'evaluate', 'htmltools', 'httpuv', 'knitr', 'lattice',\n",
      "  'lava', 'maps', 'Matrix', 'plotly', 'pROC', 'rprojroot', 'sctransform',\n",
      "  'Seurat', 'SeuratObject', 'spatstat.data', 'spatstat.explore',\n",
      "  'spatstat.geom', 'spatstat.random', 'spatstat.sparse', 'spatstat.utils',\n",
      "  'stringi', 'stringr', 'xfun'\n",
      "\n",
      "'getOption(\"repos\")' replaces Bioconductor standard repositories, see\n",
      "'help(\"repositories\", package = \"BiocManager\")' for details.\n",
      "Replacement repositories:\n",
      "    CRAN: https://cran.r-project.org\n",
      "\n",
      "Bioconductor version 3.18 (BiocManager 1.30.22), R 4.3.1 (2023-06-16)\n",
      "\n",
      "Warning message:\n",
      "“package(s) not installed when version(s) same as or greater than current; use\n",
      "  `force = TRUE` to re-install: 'STdeconvolve'”\n",
      "Old packages: 'dbplyr', 'evaluate', 'htmltools', 'httpuv', 'knitr', 'lattice',\n",
      "  'lava', 'maps', 'Matrix', 'plotly', 'pROC', 'rprojroot', 'sctransform',\n",
      "  'Seurat', 'SeuratObject', 'spatstat.data', 'spatstat.explore',\n",
      "  'spatstat.geom', 'spatstat.random', 'spatstat.sparse', 'spatstat.utils',\n",
      "  'stringi', 'stringr', 'xfun'\n",
      "\n",
      "'getOption(\"repos\")' replaces Bioconductor standard repositories, see\n",
      "'help(\"repositories\", package = \"BiocManager\")' for details.\n",
      "Replacement repositories:\n",
      "    CRAN: https://cran.r-project.org\n",
      "\n",
      "Bioconductor version 3.18 (BiocManager 1.30.22), R 4.3.1 (2023-06-16)\n",
      "\n",
      "Installing package(s) 'hdf5r'\n",
      "\n",
      "Warning message in install.packages(...):\n",
      "“installation of package ‘hdf5r’ had non-zero exit status”\n",
      "Updating HTML index of packages in '.Library'\n",
      "\n",
      "Making 'packages.html' ...\n",
      " done\n",
      "\n",
      "Old packages: 'dbplyr', 'evaluate', 'htmltools', 'httpuv', 'knitr', 'lattice',\n",
      "  'lava', 'maps', 'Matrix', 'plotly', 'pROC', 'rprojroot', 'sctransform',\n",
      "  'Seurat', 'SeuratObject', 'spatstat.data', 'spatstat.explore',\n",
      "  'spatstat.geom', 'spatstat.random', 'spatstat.sparse', 'spatstat.utils',\n",
      "  'stringi', 'stringr', 'xfun'\n",
      "\n"
     ]
    }
   ],
   "source": [
    "if (!require(\"BiocManager\", quietly = TRUE))\n",
    "    install.packages(\"BiocManager\")\n",
    "\n",
    "# The following initializes usage of Bioc devel\n",
    "BiocManager::install(version=3.18)\n",
    "\n",
    "BiocManager::install(\"STdeconvolve\")"
   ]
  },
  {
   "cell_type": "code",
   "execution_count": 21,
   "metadata": {
    "vscode": {
     "languageId": "r"
    }
   },
   "outputs": [
    {
     "name": "stderr",
     "output_type": "stream",
     "text": [
      "Warning message in packageDescription(\"hdf5r\"):\n",
      "“no package 'hdf5r' was found”\n"
     ]
    },
    {
     "ename": "ERROR",
     "evalue": "Error in pkg$Depends: $ operator is invalid for atomic vectors\n",
     "output_type": "error",
     "traceback": [
      "Error in pkg$Depends: $ operator is invalid for atomic vectors\nTraceback:\n"
     ]
    }
   ],
   "source": [
    "pkg <- packageDescription('hdf5r')\n",
    "pkg$Depends"
   ]
  },
  {
   "cell_type": "code",
   "execution_count": 25,
   "metadata": {
    "vscode": {
     "languageId": "r"
    }
   },
   "outputs": [
    {
     "name": "stderr",
     "output_type": "stream",
     "text": [
      "also installing the dependencies ‘credentials’, ‘zip’, ‘gitcreds’, ‘httr2’, ‘ini’, ‘diffobj’, ‘gert’, ‘gh’, ‘whisker’, ‘downlit’, ‘xopen’, ‘brew’, ‘brio’, ‘praise’, ‘waldo’, ‘usethis’, ‘desc’, ‘pkgbuild’, ‘pkgdown’, ‘pkgload’, ‘profvis’, ‘rcmdcheck’, ‘roxygen2’, ‘rversions’, ‘sessioninfo’, ‘testthat’, ‘urlchecker’\n",
      "\n",
      "\n",
      "Updating HTML index of packages in '.Library'\n",
      "\n",
      "Making 'packages.html' ...\n",
      " done\n",
      "\n"
     ]
    }
   ],
   "source": [
    "install.packages(\"devtools\")"
   ]
  },
  {
   "cell_type": "code",
   "execution_count": 26,
   "metadata": {
    "vscode": {
     "languageId": "r"
    }
   },
   "outputs": [
    {
     "name": "stderr",
     "output_type": "stream",
     "text": [
      "Loading required package: usethis\n",
      "\n",
      "\n",
      "Attaching package: ‘devtools’\n",
      "\n",
      "\n",
      "The following object is masked from ‘package:BiocManager’:\n",
      "\n",
      "    install\n",
      "\n",
      "\n",
      "Downloading GitHub repo hhoeflin/hdf5r@HEAD\n",
      "\n"
     ]
    },
    {
     "name": "stdout",
     "output_type": "stream",
     "text": [
      "\n",
      "\u001b[36m──\u001b[39m \u001b[36mR CMD build\u001b[39m \u001b[36m─────────────────────────────────────────────────────────────────\u001b[39m\n",
      "* checking for file ‘/tmp/RtmpmQpFnc/remotesb0f75274e7b2/hhoeflin-hdf5r-450d483/DESCRIPTION’ ... OK\n",
      "* preparing ‘hdf5r’:\n",
      "* checking DESCRIPTION meta-information ... OK\n",
      "* cleaning src\n",
      "* running ‘cleanup’\n",
      "* checking for LF line-endings in source and make files and shell scripts\n",
      "* checking for empty or unneeded directories\n",
      "* building ‘hdf5r_1.3.8.tar.gz’\n",
      "\n"
     ]
    },
    {
     "name": "stderr",
     "output_type": "stream",
     "text": [
      "Warning message in i.p(...):\n",
      "“installation of package ‘/tmp/RtmpmQpFnc/fileb0f7539db5348/hdf5r_1.3.8.tar.gz’ had non-zero exit status”\n"
     ]
    }
   ],
   "source": [
    "library(devtools)\n",
    "devtools::install_github(\"hhoeflin/hdf5r\")"
   ]
  },
  {
   "cell_type": "code",
   "execution_count": 28,
   "metadata": {
    "vscode": {
     "languageId": "r"
    }
   },
   "outputs": [
    {
     "name": "stderr",
     "output_type": "stream",
     "text": [
      "system (cmd0): /media/gambino/students_workdir/nynke/miniconda3/envs/ibp/lib/R/bin/R CMD INSTALL\n",
      "\n",
      "foundpkgs: hdf5r, /tmp/RtmpmQpFnc/downloaded_packages/hdf5r_1.3.8.tar.gz\n",
      "\n",
      "files: /tmp/RtmpmQpFnc/downloaded_packages/hdf5r_1.3.8.tar.gz\n",
      "\n",
      "Warning message in install.packages(\"hdf5r\", verbose = TRUE):\n",
      "“installation of package ‘hdf5r’ had non-zero exit status”\n",
      "Updating HTML index of packages in '.Library'\n",
      "\n",
      "Making 'packages.html' ...\n",
      " done\n",
      "\n"
     ]
    }
   ],
   "source": [
    "install.packages('hdf5r', verbose=TRUE)"
   ]
  },
  {
   "cell_type": "code",
   "execution_count": 20,
   "metadata": {
    "vscode": {
     "languageId": "r"
    }
   },
   "outputs": [
    {
     "name": "stderr",
     "output_type": "stream",
     "text": [
      "'getOption(\"repos\")' replaces Bioconductor standard repositories, see\n",
      "'help(\"repositories\", package = \"BiocManager\")' for details.\n",
      "Replacement repositories:\n",
      "    CRAN: https://cran.r-project.org\n",
      "\n",
      "Bioconductor version 3.18 (BiocManager 1.30.22), R 4.3.1 (2023-06-16)\n",
      "\n",
      "Installing package(s) 'hdf5r'\n",
      "\n",
      "Warning message in install.packages(...):\n",
      "“installation of package ‘hdf5r’ had non-zero exit status”\n",
      "Updating HTML index of packages in '.Library'\n",
      "\n",
      "Making 'packages.html' ...\n",
      " done\n",
      "\n",
      "Old packages: 'dbplyr', 'evaluate', 'htmltools', 'httpuv', 'knitr', 'lattice',\n",
      "  'lava', 'maps', 'Matrix', 'plotly', 'pROC', 'rprojroot', 'sctransform',\n",
      "  'Seurat', 'SeuratObject', 'spatstat.data', 'spatstat.explore',\n",
      "  'spatstat.geom', 'spatstat.random', 'spatstat.sparse', 'spatstat.utils',\n",
      "  'stringi', 'stringr', 'xfun'\n",
      "\n"
     ]
    }
   ],
   "source": [
    "BiocManager::install('hdf5r')"
   ]
  },
  {
   "cell_type": "code",
   "execution_count": 18,
   "metadata": {
    "vscode": {
     "languageId": "r"
    }
   },
   "outputs": [
    {
     "name": "stderr",
     "output_type": "stream",
     "text": [
      "Updating HTML index of packages in '.Library'\n",
      "\n",
      "Making 'packages.html' ...\n",
      " done\n",
      "\n",
      "'getOption(\"repos\")' replaces Bioconductor standard repositories, see\n",
      "'help(\"repositories\", package = \"BiocManager\")' for details.\n",
      "Replacement repositories:\n",
      "    CRAN: https://cran.r-project.org\n",
      "\n",
      "Bioconductor version 3.18 (BiocManager 1.30.22), R 4.3.1 (2023-06-16)\n",
      "\n",
      "Installing package(s) 'hdf5r'\n",
      "\n",
      "Warning message in install.packages(...):\n",
      "“installation of package ‘hdf5r’ had non-zero exit status”\n",
      "Updating HTML index of packages in '.Library'\n",
      "\n",
      "Making 'packages.html' ...\n",
      " done\n",
      "\n",
      "Old packages: 'dbplyr', 'evaluate', 'htmltools', 'httpuv', 'knitr', 'lattice',\n",
      "  'lava', 'maps', 'Matrix', 'plotly', 'pROC', 'rprojroot', 'sctransform',\n",
      "  'Seurat', 'SeuratObject', 'spatstat.data', 'spatstat.explore',\n",
      "  'spatstat.geom', 'spatstat.random', 'spatstat.sparse', 'spatstat.utils',\n",
      "  'stringi', 'stringr', 'xfun'\n",
      "\n"
     ]
    }
   ],
   "source": [
    "install.packages('tidyverse')"
   ]
  },
  {
   "cell_type": "markdown",
   "metadata": {},
   "source": [
    "If SEURAT is not installed yet, please do so now, can take ~20 minutes\n",
    "remotes::install_version(\"Seurat\", version = \"4.3.0\")"
   ]
  },
  {
   "cell_type": "code",
   "execution_count": 16,
   "metadata": {
    "vscode": {
     "languageId": "r"
    }
   },
   "outputs": [
    {
     "ename": "ERROR",
     "evalue": "Error in library(hdf5r): there is no package called ‘hdf5r’\n",
     "output_type": "error",
     "traceback": [
      "Error in library(hdf5r): there is no package called ‘hdf5r’\nTraceback:\n",
      "1. library(hdf5r)"
     ]
    }
   ],
   "source": [
    "library(Seurat)\n",
    "library(STdeconvolve)\n",
    "library(tidyverse)\n",
    "library(hdf5r)"
   ]
  },
  {
   "cell_type": "markdown",
   "metadata": {},
   "source": [
    "### Download data"
   ]
  },
  {
   "cell_type": "markdown",
   "metadata": {},
   "source": [
    "Current data is downloaded from the 10x Genomics Analysis Guides GitHub repository"
   ]
  },
  {
   "cell_type": "code",
   "execution_count": 8,
   "metadata": {
    "vscode": {
     "languageId": "r"
    }
   },
   "outputs": [
    {
     "data": {
      "text/html": [
       "<style>\n",
       ".list-inline {list-style: none; margin:0; padding: 0}\n",
       ".list-inline>li {display: inline-block}\n",
       ".list-inline>li:not(:last-child)::after {content: \"\\00b7\"; padding: 0 .5ex}\n",
       "</style>\n",
       "<ol class=list-inline><li>'astro_markers.csv'</li><li>'data_exploration.ipynb'</li><li>'optlDA.17p9_rep1_astrogenes.rds'</li><li>'README.md'</li><li>'seurat_conversion.ipynb'</li><li>'spatial_cord_subset_17p9_rep1.csv'</li><li>'visium_exploration.ipynb'</li><li>'VisiumFFPE_Mouse_Brain_Transgenic_Age_17p9_Rep_1.h5'</li></ol>\n"
      ],
      "text/latex": [
       "\\begin{enumerate*}\n",
       "\\item 'astro\\_markers.csv'\n",
       "\\item 'data\\_exploration.ipynb'\n",
       "\\item 'optlDA.17p9\\_rep1\\_astrogenes.rds'\n",
       "\\item 'README.md'\n",
       "\\item 'seurat\\_conversion.ipynb'\n",
       "\\item 'spatial\\_cord\\_subset\\_17p9\\_rep1.csv'\n",
       "\\item 'visium\\_exploration.ipynb'\n",
       "\\item 'VisiumFFPE\\_Mouse\\_Brain\\_Transgenic\\_Age\\_17p9\\_Rep\\_1.h5'\n",
       "\\end{enumerate*}\n"
      ],
      "text/markdown": [
       "1. 'astro_markers.csv'\n",
       "2. 'data_exploration.ipynb'\n",
       "3. 'optlDA.17p9_rep1_astrogenes.rds'\n",
       "4. 'README.md'\n",
       "5. 'seurat_conversion.ipynb'\n",
       "6. 'spatial_cord_subset_17p9_rep1.csv'\n",
       "7. 'visium_exploration.ipynb'\n",
       "8. 'VisiumFFPE_Mouse_Brain_Transgenic_Age_17p9_Rep_1.h5'\n",
       "\n",
       "\n"
      ],
      "text/plain": [
       "[1] \"astro_markers.csv\"                                  \n",
       "[2] \"data_exploration.ipynb\"                             \n",
       "[3] \"optlDA.17p9_rep1_astrogenes.rds\"                    \n",
       "[4] \"README.md\"                                          \n",
       "[5] \"seurat_conversion.ipynb\"                            \n",
       "[6] \"spatial_cord_subset_17p9_rep1.csv\"                  \n",
       "[7] \"visium_exploration.ipynb\"                           \n",
       "[8] \"VisiumFFPE_Mouse_Brain_Transgenic_Age_17p9_Rep_1.h5\""
      ]
     },
     "metadata": {},
     "output_type": "display_data"
    }
   ],
   "source": [
    "download.file(\"https://raw.githubusercontent.com/10XGenomics/analysis_guides/main/2023_Exploring_Your_Visium_Data_input_files/VisiumFFPE_Mouse_Brain_Transgenic_Age_17p9_Rep_1.h5\", \"VisiumFFPE_Mouse_Brain_Transgenic_Age_17p9_Rep_1.h5\")\n",
    "download.file(\"https://raw.githubusercontent.com/10XGenomics/analysis_guides/main/2023_Exploring_Your_Visium_Data_input_files/astro_markers.csv\",\"astro_markers.csv\")\n",
    "download.file(\"https://raw.githubusercontent.com/10XGenomics/analysis_guides/main/2023_Exploring_Your_Visium_Data_input_files/spatial_cord_subset_17p9_rep1.csv\", \"spatial_cord_subset_17p9_rep1.csv\")\n",
    "download.file(\"https://raw.githubusercontent.com/10XGenomics/analysis_guides/main/2023_Exploring_Your_Visium_Data_input_files/optlDA.17p9_rep1_astrogenes.rds\",\"optlDA.17p9_rep1_astrogenes.rds\")\n",
    "list.files(path = \".\")"
   ]
  },
  {
   "cell_type": "markdown",
   "metadata": {},
   "source": [
    "### Functions"
   ]
  },
  {
   "cell_type": "markdown",
   "metadata": {},
   "source": [
    "Function `marker_gene_list`:\n",
    "\n",
    "Input\n",
    "* Gexp: gene expression matrix from the optimal lda model\n",
    "* topic: topic number from the optimal lda model\n",
    "* exp_value: gene expression cut-off for considering genes highly expressed\n",
    "\n",
    "Output\n",
    "* Tibble containing highly expressed genes and their log2 fold change"
   ]
  },
  {
   "cell_type": "code",
   "execution_count": 9,
   "metadata": {
    "vscode": {
     "languageId": "r"
    }
   },
   "outputs": [
    {
     "data": {
      "text/html": [
       "<pre class=language-r><code>function (topic, exp_value, Gexp) \n",
       "{\n",
       "<span style=white-space:pre-wrap>    highgexp &lt;- names(which(Gexp[topic, ] &gt; exp_value))</span>\n",
       "<span style=white-space:pre-wrap>    log2fc &lt;- sort(log2(Gexp[topic, highgexp]/colMeans(Gexp[-topic, </span>\n",
       "<span style=white-space:pre-wrap>        highgexp])), decreasing = TRUE)</span>\n",
       "<span style=white-space:pre-wrap>    return(tibble(Gene = names(log2fc), log2fc = log2fc))</span>\n",
       "}</code></pre>"
      ],
      "text/latex": [
       "\\begin{minted}{r}\n",
       "function (topic, exp\\_value, Gexp) \n",
       "\\{\n",
       "    highgexp <- names(which(Gexp{[}topic, {]} > exp\\_value))\n",
       "    log2fc <- sort(log2(Gexp{[}topic, highgexp{]}/colMeans(Gexp{[}-topic, \n",
       "        highgexp{]})), decreasing = TRUE)\n",
       "    return(tibble(Gene = names(log2fc), log2fc = log2fc))\n",
       "\\}\n",
       "\\end{minted}"
      ],
      "text/markdown": [
       "```r\n",
       "function (topic, exp_value, Gexp) \n",
       "{\n",
       "    highgexp <- names(which(Gexp[topic, ] > exp_value))\n",
       "    log2fc <- sort(log2(Gexp[topic, highgexp]/colMeans(Gexp[-topic, \n",
       "        highgexp])), decreasing = TRUE)\n",
       "    return(tibble(Gene = names(log2fc), log2fc = log2fc))\n",
       "}\n",
       "```"
      ],
      "text/plain": [
       "function(topic,exp_value,Gexp){\n",
       "  ## highly expressed in cell-type of interest\n",
       "  highgexp <- names(which(Gexp[topic,] > exp_value))\n",
       "  ## high log2(fold-change) compared to other deconvolved cell-types\n",
       "  log2fc <- sort(log2(Gexp[topic,highgexp]/colMeans(Gexp[-topic,highgexp])), decreasing=TRUE)\n",
       "  return(tibble(Gene=names(log2fc),log2fc=log2fc))\n",
       "}"
      ]
     },
     "metadata": {},
     "output_type": "display_data"
    }
   ],
   "source": [
    "marker_gene_list<-function(topic,exp_value,Gexp){\n",
    "  ## highly expressed in cell-type of interest\n",
    "  highgexp <- names(which(Gexp[topic,] > exp_value))\n",
    "  ## high log2(fold-change) compared to other deconvolved cell-types\n",
    "  log2fc <- sort(log2(Gexp[topic,highgexp]/colMeans(Gexp[-topic,highgexp])), decreasing=TRUE)\n",
    "  return(tibble(Gene=names(log2fc),log2fc=log2fc))\n",
    "}\n",
    "\n",
    "marker_gene_list"
   ]
  },
  {
   "cell_type": "markdown",
   "metadata": {},
   "source": [
    "Function `plot_spatial`:\n",
    "\n",
    "Input\n",
    "* plot_data: table with spot proportion for a topic of interest\n",
    "* suffix1: suffix defining the image type\n",
    "* dir: output directory\n",
    "* i: topic of interest number\n",
    "\n",
    "Output\n",
    "* Spatial plot colored by topic proportion"
   ]
  },
  {
   "cell_type": "code",
   "execution_count": 10,
   "metadata": {
    "vscode": {
     "languageId": "r"
    }
   },
   "outputs": [],
   "source": [
    "plot_spatial<-function(plot_data=plot_data,suffix1='_prop.jpg',dir=dir,i){\n",
    "  p1<-ggplot(plot_data, aes(x, y,fill = prop)) +\n",
    "    geom_point(shape=21,size=4) + \n",
    "    guides(size=\"none\")+\n",
    "    labs(title=str_c(\"topic \",i))+\n",
    "    scale_fill_viridis_c() +\n",
    "    theme_void()+\n",
    "    coord_equal()\n",
    "  print(p1)\n",
    "  ggsave(plot = p1, paste(dir,\"topic_\",i,suffix1, sep=''), \n",
    "         height=5, width=5, units='in', dpi=300)\n",
    " \n",
    "}"
   ]
  },
  {
   "cell_type": "markdown",
   "metadata": {},
   "source": [
    "Function `run_me_QC`:\n",
    "\n",
    "Input\n",
    "* ldas: model object\n",
    "* starting_k\n",
    "* ending_k\n",
    "\n",
    "Output\n",
    "* QC plot for fitted models"
   ]
  },
  {
   "cell_type": "code",
   "execution_count": 11,
   "metadata": {
    "vscode": {
     "languageId": "r"
    }
   },
   "outputs": [],
   "source": [
    "run_me_QC<-function(ldas,starting_k=2,ending_k=22,dir){\n",
    "  if(!dir.exists(dir)){dir.create(dir)}\n",
    "  alpha<-map(.x = (starting_k-1):(ending_k-1),~ldas$model[[.x]]@alpha)%>%unlist\n",
    "  plot_df<-tibble(K=starting_k:ending_k,alpha=alpha,perplexities=ldas$perplexities,rare=ldas$numRare)\n",
    "  p1<-ggplot(data = plot_df) +\n",
    "    geom_line(mapping = aes(x = K,y = perplexities), color=\"red3\",size=2) +\n",
    "    geom_point(mapping = aes(x = K,y = perplexities),shape=21, color=\"black\", fill=ifelse(alpha > 1, \"white\", \"red3\"), size=6)+\n",
    "    theme_linedraw(base_size = 16,base_rect_size =2,base_line_size = 2)+ylab(\"perplexity\")+\n",
    "    ylim(min(plot_df$perplexities)-10,10+max(plot_df$perplexities))\n",
    "  p2<-ggplot(data = plot_df) +\n",
    "    geom_point(mapping = aes(x = K,y = rare),shape=21, color=\"black\", fill=\"blue\", size=4)+\n",
    "    geom_line(mapping = aes(x = K,y = rare), color=\"blue\",size=2)+\n",
    "    theme_linedraw(base_size = 16,base_rect_size =2,base_line_size = 2)+ylab(\"cell−types with mean proportion < 5%\")\n",
    "  p3<-ggplot(data = plot_df) +\n",
    "    geom_line(mapping = aes(x = K,y = alpha), color=\"darkgreen\",size=2) +ylim(c(0,1))+\n",
    "    geom_point(mapping = aes(x = K,y = alpha),shape=21, color=\"black\", fill=ifelse(alpha > 1, \"white\", \"darkgreen\"), size=6)+\n",
    "    theme_linedraw(base_size = 16,base_rect_size =2,base_line_size = 2)+ylab(\"alpha\")\n",
    "  print(p1+p2+p3)\n",
    "  ggsave(plot = p1+p2+p3,filename = str_c(dir,\"merged_QC_plot.jpg\"),height=5, width=12, units='in', dpi=300)\n",
    "}"
   ]
  },
  {
   "cell_type": "markdown",
   "metadata": {},
   "source": [
    "Function `run_me_results`:\n",
    "\n",
    "Input\n",
    "* opt: optimal model number\n",
    "* ldas: object returned from the fitLDA function\n",
    "* dir: output directory\n",
    "\n",
    "Output\n",
    "* generates spatial plots for each topic for the optimal model & exports the log2 fold change for highly expressed genes for each topic for the optimal model."
   ]
  },
  {
   "cell_type": "code",
   "execution_count": 12,
   "metadata": {
    "vscode": {
     "languageId": "r"
    }
   },
   "outputs": [],
   "source": [
    "run_me_results<-function(opt,\n",
    "                         dir,ldas ){\n",
    "  optLDA <- optimalModel(models = ldas, opt = opt)\n",
    "  results <- getBetaTheta(optLDA,\n",
    "                          perc.filt = 0.05,\n",
    "                          betaScale = 1000)\n",
    "  deconProp <- results$theta\n",
    "  deconGexp <- results$beta\n",
    "  \n",
    "  if(!dir.exists(dir)){dir.create(dir)}\n",
    "  \n",
    "  for(i in 1:dim(deconProp)[2]){\n",
    "    plot_data<-merge(pos,deconProp[,i],by = 0)\n",
    "    names(plot_data)<-c(\"barcode\",\"x\",\"y\",\"prop\")\n",
    "    \n",
    "    plot_spatial(plot_data=plot_data,suffix1='_prop.jpg',dir=dir,i=i)\n",
    "    \n",
    "  }\n",
    "    \n",
    "  marker_gene_output<-map(.x = 1:dim(deconGexp)[1],\n",
    "                          ~marker_gene_list(topic = .x,exp_value = 2,Gexp = deconGexp))\n",
    "  names(marker_gene_output)<-str_c(\"topic_genes_exp2.\",1:dim(deconGexp)[1],\".csv\")\n",
    "  \n",
    "  map2(.x = names(marker_gene_output),\n",
    "       .y = marker_gene_output,\n",
    "       ~write_csv(x = .y,file = paste(dir,.x)))\n",
    "  \n",
    " \n",
    "}"
   ]
  },
  {
   "cell_type": "markdown",
   "metadata": {},
   "source": [
    "### Load and preprocess data"
   ]
  },
  {
   "cell_type": "code",
   "execution_count": 13,
   "metadata": {
    "vscode": {
     "languageId": "r"
    }
   },
   "outputs": [
    {
     "ename": "ERROR",
     "evalue": "Error in Read10X_h5(filename = \"VisiumFFPE_Mouse_Brain_Transgenic_Age_17p9_Rep_1.h5\"): Please install hdf5r to read HDF5 files\n",
     "output_type": "error",
     "traceback": [
      "Error in Read10X_h5(filename = \"VisiumFFPE_Mouse_Brain_Transgenic_Age_17p9_Rep_1.h5\"): Please install hdf5r to read HDF5 files\nTraceback:\n",
      "1. Read10X_h5(filename = \"VisiumFFPE_Mouse_Brain_Transgenic_Age_17p9_Rep_1.h5\")",
      "2. stop(\"Please install hdf5r to read HDF5 files\")"
     ]
    }
   ],
   "source": [
    "counts<-Read10X_h5(filename = \"VisiumFFPE_Mouse_Brain_Transgenic_Age_17p9_Rep_1.h5\")\n",
    "spatial_barcodes<-read_csv(\"spatial_cord_subset_17p9_rep1.csv\")"
   ]
  },
  {
   "cell_type": "markdown",
   "metadata": {},
   "source": [
    "subset the input data to focus on the region of interest"
   ]
  },
  {
   "cell_type": "code",
   "execution_count": null,
   "metadata": {
    "vscode": {
     "languageId": "r"
    }
   },
   "outputs": [
    {
     "ename": "ERROR",
     "evalue": "Error in eval(expr, envir, enclos): object 'counts' not found\n",
     "output_type": "error",
     "traceback": [
      "Error in eval(expr, envir, enclos): object 'counts' not found\nTraceback:\n"
     ]
    }
   ],
   "source": [
    "counts_subset <- counts[,colnames(counts)%in%spatial_barcodes$barcode]\n",
    "pos<-as.data.frame(spatial_barcodes)\n",
    "rownames(pos)<-pos[,1]\n",
    "pos<-pos[,5:6]\n",
    "names(pos)<-c(\"x\",\"y\")"
   ]
  },
  {
   "cell_type": "markdown",
   "metadata": {},
   "source": [
    "Filter count matrix to remove low quality spots and poorly expressed genes"
   ]
  },
  {
   "cell_type": "code",
   "execution_count": null,
   "metadata": {
    "vscode": {
     "languageId": "r"
    }
   },
   "outputs": [],
   "source": [
    "counts_subset_clean <- cleanCounts(counts = counts_subset,\n",
    "                                   min.lib.size = 100,\n",
    "                                   min.reads = 1,\n",
    "                                   min.detected = 1,\n",
    "                                   verbose = TRUE)"
   ]
  },
  {
   "cell_type": "markdown",
   "metadata": {},
   "source": [
    "Selecting genes for the model. First, the overdispersed genes are determined."
   ]
  },
  {
   "cell_type": "code",
   "execution_count": null,
   "metadata": {
    "vscode": {
     "languageId": "r"
    }
   },
   "outputs": [],
   "source": [
    "odGenes <- getOverdispersedGenes(as.matrix(counts_subset_clean),\n",
    "                                 gam.k=5,\n",
    "                                 alpha=0.05,\n",
    "                                 plot=FALSE,\n",
    "                                 use.unadjusted.pvals=FALSE,\n",
    "                                 do.par=TRUE,\n",
    "                                 max.adjusted.variance=1e3,\n",
    "                                 min.adjusted.variance=1e-3,\n",
    "                                 verbose=FALSE, details=TRUE)"
   ]
  },
  {
   "cell_type": "markdown",
   "metadata": {},
   "source": [
    "Second, we load a list of canonical astrocyte markers and then merge them with the list of overdispersed genes"
   ]
  },
  {
   "cell_type": "code",
   "execution_count": null,
   "metadata": {
    "vscode": {
     "languageId": "r"
    }
   },
   "outputs": [],
   "source": [
    "astro<-read_csv(file = \"astro_markers.csv\")\n",
    "astro_overlap_fit<-rownames(counts_subset_clean)%in%astro$`Astrocyte Markers`\n",
    "astro_overlap<-rownames(counts_subset_clean)[astro_overlap_fit]\n",
    "gene_astro<-c(genes,astro_overlap)%>%unique()"
   ]
  },
  {
   "cell_type": "markdown",
   "metadata": {},
   "source": [
    "The merged overdispersed gene and canonical astrocyte marker list is used to generate the corpus for the model."
   ]
  },
  {
   "cell_type": "code",
   "execution_count": null,
   "metadata": {
    "vscode": {
     "languageId": "r"
    }
   },
   "outputs": [],
   "source": [
    "corpus<-preprocess(t(as.matrix(counts_subset_clean)),\n",
    "                   selected.genes = gene_astro,plot=FALSE,\n",
    "                   min.reads = 1, \n",
    "                   min.lib.size = 100, \n",
    "                   min.detected = 1,\n",
    "                   ODgenes = FALSE, \n",
    "                   verbose = TRUE)"
   ]
  },
  {
   "cell_type": "markdown",
   "metadata": {},
   "source": [
    "### LDA model fitting"
   ]
  },
  {
   "cell_type": "markdown",
   "metadata": {},
   "source": [
    "Fit the LDA model for K values and find the optimal numbers of cell-types K. Can take ~30-60 minutes."
   ]
  },
  {
   "cell_type": "code",
   "execution_count": null,
   "metadata": {
    "vscode": {
     "languageId": "r"
    }
   },
   "outputs": [],
   "source": [
    "ldas <- fitLDA(corpus$corpus, Ks = seq(2, 22, by = 1),\n",
    "               perc.rare.thresh = 0.05,\n",
    "               plot=FALSE,\n",
    "               ncores=4,\n",
    "               verbose=TRUE)"
   ]
  },
  {
   "cell_type": "code",
   "execution_count": null,
   "metadata": {
    "vscode": {
     "languageId": "r"
    }
   },
   "outputs": [],
   "source": [
    "# This cell allows you to save the object from the previous cell\n",
    "saveRDS(object = ldas,file = \"optlDA.17p9_rep1_astrogenes.rds\")\n",
    "\n",
    "# Command below can be used to load the RDS file that is downloaded above.\n",
    "# ldas<-readRDS(file = \"optlDA.17p9_rep1_astrogenes.rds\")"
   ]
  },
  {
   "cell_type": "markdown",
   "metadata": {},
   "source": [
    "Output spatial plots for each topic and its log2 fold change of highly expressed genes. "
   ]
  },
  {
   "cell_type": "code",
   "execution_count": null,
   "metadata": {
    "vscode": {
     "languageId": "r"
    }
   },
   "outputs": [],
   "source": [
    "run_me_results(opt=18,dir = \"output_18/\",ldas=ldas)"
   ]
  }
 ],
 "metadata": {
  "kernelspec": {
   "display_name": "R",
   "language": "R",
   "name": "ir"
  },
  "language_info": {
   "codemirror_mode": "r",
   "file_extension": ".r",
   "mimetype": "text/x-r-source",
   "name": "R",
   "pygments_lexer": "r",
   "version": "4.3.1"
  }
 },
 "nbformat": 4,
 "nbformat_minor": 2
}
